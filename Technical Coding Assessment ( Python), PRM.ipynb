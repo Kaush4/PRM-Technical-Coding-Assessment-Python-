{
 "cells": [
  {
   "cell_type": "code",
   "execution_count": 44,
   "id": "be4b74f9",
   "metadata": {},
   "outputs": [
    {
     "name": "stdout",
     "output_type": "stream",
     "text": [
      "['great', 'abc', 'hello', 'hiyo', 'xzy']\n"
     ]
    }
   ],
   "source": [
    "# Python Candidates - Question 1\n",
    "# You will have a number of elements and in the next n lines element of a list.\n",
    "# You have to create a list from the given strings.\n",
    "# You have to sort the list based on 2nd last character of a string.\n",
    "# sample_input_list = ['great','hello','hiyo','abc']\n",
    "# sample_output_list = ['great', 'abc', 'hello','hiyo']\n",
    "\n",
    "input_list= ['great','hello','hiyo','abc','xzy']\n",
    "d= {}\n",
    "output_list= []\n",
    "for i in input_list:\n",
    "    d[i[-2]] = i\n",
    "sorted_value=sorted(d)\n",
    "for m in sorted_value:\n",
    "    output_list.append(d[m])\n",
    "print(output_list)"
   ]
  },
  {
   "cell_type": "code",
   "execution_count": null,
   "id": "4b4597df",
   "metadata": {},
   "outputs": [],
   "source": [
    "# Python Candidates - Question 2\n",
    "# Your task is to complete the validate_triangle and validate_rectangle functions for the classes.\n",
    "# Also you will have to print the following after validation in respective functions:-\n",
    "# 1.Invalid Triangle: If the triangle sum property of sides is not valid(More hint in the comments of code)\n",
    "# 2.Valid Triangle:If the triangle sum property of sides is valid.\n",
    "# 3.Valid Rectangle:If 2 side pairs are same and they are input in correct order like l,b,l,b\n",
    "# 4.Invalid Rectangle: If Not Valid rectangle as stated above.\n",
    "# Sample Input 0:\n",
    "# 3 4 5\n",
    "# 2 4 2 4\n",
    "# Sample Output 0:\n",
    "# Valid Triangle\n",
    "# Valid Rectangle"
   ]
  },
  {
   "cell_type": "code",
   "execution_count": 58,
   "id": "e04c215f",
   "metadata": {},
   "outputs": [
    {
     "name": "stdout",
     "output_type": "stream",
     "text": [
      "1st side of Triangle: 5\n",
      "2nd side of Triangle: 4\n",
      "3rd side of Triangle: 3\n",
      "Enter the first length of rectangle: 12\n",
      "Enter the first width of rectangle: 9\n",
      "Enter the second length of rectangle: 12\n",
      "Enter the second width of rectangle: 9\n",
      "Valid Triangle\n",
      "Valid Rectangle\n"
     ]
    }
   ],
   "source": [
    "class check:\n",
    "    def validate_triangle(self, side1, side2, side3):\n",
    "        if (side1 + side3 <= side2) or (side1 + side2 <= side3) or (side2 + side3 <= side1):\n",
    "            return \"Invalid Triangle\"\n",
    "        else:\n",
    "            return \"Valid Triangle\"\n",
    "    def validate_rectangle(self, l1, b1, l2, b2):\n",
    "        if (l1 == l2 and b1 == b2):\n",
    "            return \"Valid Rectangle\"\n",
    "        else:\n",
    "            return \"Invalid Rectangle\"\n",
    "\n",
    "\n",
    "\n",
    "side1,side2,side3= int(input(\"1st side of Triangle: \")),int(input(\"2nd side of Triangle: \")),int(input(\"3rd side of Triangle: \"))\n",
    "l1,b1= int(input(\"Enter the first length of rectangle: \")), int(input(\"Enter the first width of rectangle: \"))\n",
    "l2,b2=int(input(\"Enter the second length of rectangle: \")),int(input(\"Enter the second width of rectangle: \"))\n",
    "obj= check()\n",
    "t=obj.validate_triangle(side1, side2, side3)\n",
    "print(t)\n",
    "r=obj.validate_rectangle(l1, b1, l2, b2)\n",
    "print(r)"
   ]
  }
 ],
 "metadata": {
  "kernelspec": {
   "display_name": "Python 3 (ipykernel)",
   "language": "python",
   "name": "python3"
  },
  "language_info": {
   "codemirror_mode": {
    "name": "ipython",
    "version": 3
   },
   "file_extension": ".py",
   "mimetype": "text/x-python",
   "name": "python",
   "nbconvert_exporter": "python",
   "pygments_lexer": "ipython3",
   "version": "3.9.12"
  }
 },
 "nbformat": 4,
 "nbformat_minor": 5
}
